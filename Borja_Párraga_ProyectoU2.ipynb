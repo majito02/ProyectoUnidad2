{
 "cells": [
  {
   "cell_type": "markdown",
   "id": "c04033ae",
   "metadata": {},
   "source": [
    "# Clasificación de precios móvil"
   ]
  },
  {
   "cell_type": "code",
   "execution_count": 1,
   "id": "31bffd4d",
   "metadata": {},
   "outputs": [],
   "source": [
    "#importación de librerias necesarias\n",
    "import numpy as np\n",
    "import pandas as pd\n",
    "import matplotlib.pyplot as plt\n",
    "import seaborn as sns\n",
    "from sklearn.model_selection import train_test_split\n",
    "from sklearn.preprocessing import StandardScaler\n",
    "from sklearn.linear_model import LogisticRegression\n",
    "from sklearn.metrics import accuracy_score"
   ]
  },
  {
   "cell_type": "markdown",
   "id": "761a91fe",
   "metadata": {},
   "source": [
    "## Cargar el Dataset <br>\n"
   ]
  },
  {
   "cell_type": "code",
   "execution_count": 2,
   "id": "18132454",
   "metadata": {},
   "outputs": [
    {
     "data": {
      "text/html": [
       "<div>\n",
       "<style scoped>\n",
       "    .dataframe tbody tr th:only-of-type {\n",
       "        vertical-align: middle;\n",
       "    }\n",
       "\n",
       "    .dataframe tbody tr th {\n",
       "        vertical-align: top;\n",
       "    }\n",
       "\n",
       "    .dataframe thead th {\n",
       "        text-align: right;\n",
       "    }\n",
       "</style>\n",
       "<table border=\"1\" class=\"dataframe\">\n",
       "  <thead>\n",
       "    <tr style=\"text-align: right;\">\n",
       "      <th></th>\n",
       "      <th>battery_power</th>\n",
       "      <th>blue</th>\n",
       "      <th>clock_speed</th>\n",
       "      <th>dual_sim</th>\n",
       "      <th>fc</th>\n",
       "      <th>four_g</th>\n",
       "      <th>int_memory</th>\n",
       "      <th>m_dep</th>\n",
       "      <th>mobile_wt</th>\n",
       "      <th>n_cores</th>\n",
       "      <th>...</th>\n",
       "      <th>px_height</th>\n",
       "      <th>px_width</th>\n",
       "      <th>ram</th>\n",
       "      <th>sc_h</th>\n",
       "      <th>sc_w</th>\n",
       "      <th>talk_time</th>\n",
       "      <th>three_g</th>\n",
       "      <th>touch_screen</th>\n",
       "      <th>wifi</th>\n",
       "      <th>price_range</th>\n",
       "    </tr>\n",
       "  </thead>\n",
       "  <tbody>\n",
       "    <tr>\n",
       "      <th>0</th>\n",
       "      <td>842</td>\n",
       "      <td>0</td>\n",
       "      <td>2.2</td>\n",
       "      <td>0</td>\n",
       "      <td>1</td>\n",
       "      <td>0</td>\n",
       "      <td>7</td>\n",
       "      <td>0.6</td>\n",
       "      <td>188</td>\n",
       "      <td>2</td>\n",
       "      <td>...</td>\n",
       "      <td>20</td>\n",
       "      <td>756</td>\n",
       "      <td>2549</td>\n",
       "      <td>9</td>\n",
       "      <td>7</td>\n",
       "      <td>19</td>\n",
       "      <td>0</td>\n",
       "      <td>0</td>\n",
       "      <td>1</td>\n",
       "      <td>1</td>\n",
       "    </tr>\n",
       "    <tr>\n",
       "      <th>1</th>\n",
       "      <td>1021</td>\n",
       "      <td>1</td>\n",
       "      <td>0.5</td>\n",
       "      <td>1</td>\n",
       "      <td>0</td>\n",
       "      <td>1</td>\n",
       "      <td>53</td>\n",
       "      <td>0.7</td>\n",
       "      <td>136</td>\n",
       "      <td>3</td>\n",
       "      <td>...</td>\n",
       "      <td>905</td>\n",
       "      <td>1988</td>\n",
       "      <td>2631</td>\n",
       "      <td>17</td>\n",
       "      <td>3</td>\n",
       "      <td>7</td>\n",
       "      <td>1</td>\n",
       "      <td>1</td>\n",
       "      <td>0</td>\n",
       "      <td>2</td>\n",
       "    </tr>\n",
       "    <tr>\n",
       "      <th>2</th>\n",
       "      <td>563</td>\n",
       "      <td>1</td>\n",
       "      <td>0.5</td>\n",
       "      <td>1</td>\n",
       "      <td>2</td>\n",
       "      <td>1</td>\n",
       "      <td>41</td>\n",
       "      <td>0.9</td>\n",
       "      <td>145</td>\n",
       "      <td>5</td>\n",
       "      <td>...</td>\n",
       "      <td>1263</td>\n",
       "      <td>1716</td>\n",
       "      <td>2603</td>\n",
       "      <td>11</td>\n",
       "      <td>2</td>\n",
       "      <td>9</td>\n",
       "      <td>1</td>\n",
       "      <td>1</td>\n",
       "      <td>0</td>\n",
       "      <td>2</td>\n",
       "    </tr>\n",
       "    <tr>\n",
       "      <th>3</th>\n",
       "      <td>615</td>\n",
       "      <td>1</td>\n",
       "      <td>2.5</td>\n",
       "      <td>0</td>\n",
       "      <td>0</td>\n",
       "      <td>0</td>\n",
       "      <td>10</td>\n",
       "      <td>0.8</td>\n",
       "      <td>131</td>\n",
       "      <td>6</td>\n",
       "      <td>...</td>\n",
       "      <td>1216</td>\n",
       "      <td>1786</td>\n",
       "      <td>2769</td>\n",
       "      <td>16</td>\n",
       "      <td>8</td>\n",
       "      <td>11</td>\n",
       "      <td>1</td>\n",
       "      <td>0</td>\n",
       "      <td>0</td>\n",
       "      <td>2</td>\n",
       "    </tr>\n",
       "    <tr>\n",
       "      <th>4</th>\n",
       "      <td>1821</td>\n",
       "      <td>1</td>\n",
       "      <td>1.2</td>\n",
       "      <td>0</td>\n",
       "      <td>13</td>\n",
       "      <td>1</td>\n",
       "      <td>44</td>\n",
       "      <td>0.6</td>\n",
       "      <td>141</td>\n",
       "      <td>2</td>\n",
       "      <td>...</td>\n",
       "      <td>1208</td>\n",
       "      <td>1212</td>\n",
       "      <td>1411</td>\n",
       "      <td>8</td>\n",
       "      <td>2</td>\n",
       "      <td>15</td>\n",
       "      <td>1</td>\n",
       "      <td>1</td>\n",
       "      <td>0</td>\n",
       "      <td>1</td>\n",
       "    </tr>\n",
       "  </tbody>\n",
       "</table>\n",
       "<p>5 rows × 21 columns</p>\n",
       "</div>"
      ],
      "text/plain": [
       "   battery_power  blue  clock_speed  dual_sim  fc  four_g  int_memory  m_dep  \\\n",
       "0            842     0          2.2         0   1       0           7    0.6   \n",
       "1           1021     1          0.5         1   0       1          53    0.7   \n",
       "2            563     1          0.5         1   2       1          41    0.9   \n",
       "3            615     1          2.5         0   0       0          10    0.8   \n",
       "4           1821     1          1.2         0  13       1          44    0.6   \n",
       "\n",
       "   mobile_wt  n_cores  ...  px_height  px_width   ram  sc_h  sc_w  talk_time  \\\n",
       "0        188        2  ...         20       756  2549     9     7         19   \n",
       "1        136        3  ...        905      1988  2631    17     3          7   \n",
       "2        145        5  ...       1263      1716  2603    11     2          9   \n",
       "3        131        6  ...       1216      1786  2769    16     8         11   \n",
       "4        141        2  ...       1208      1212  1411     8     2         15   \n",
       "\n",
       "   three_g  touch_screen  wifi  price_range  \n",
       "0        0             0     1            1  \n",
       "1        1             1     0            2  \n",
       "2        1             1     0            2  \n",
       "3        1             0     0            2  \n",
       "4        1             1     0            1  \n",
       "\n",
       "[5 rows x 21 columns]"
      ]
     },
     "execution_count": 2,
     "metadata": {},
     "output_type": "execute_result"
    }
   ],
   "source": [
    "df = pd.read_csv(\"train.csv\")\n",
    "df.head()"
   ]
  },
  {
   "cell_type": "markdown",
   "id": "e0db348d",
   "metadata": {},
   "source": [
    "## Descripción de la fuente del Dataset"
   ]
  },
  {
   "cell_type": "markdown",
   "id": "3d555203",
   "metadata": {},
   "source": [
    "\n",
    "El presente dataset esta enfocado en una tienda de telefonos en los cuales se ha obtenido los datos que se muestran la parte superior con diferentes atributos de entrada los cuales tiene como objetivo determinar el precio de los mismos. En este caso el precio no esta determinado con un valor sino mas bien son categorias (0,1,2,3). Los datos han sido obtenidos de https://www.kaggle.com/datasets/iabhishekofficial/mobile-price-classification"
   ]
  },
  {
   "cell_type": "markdown",
   "id": "130967b3",
   "metadata": {},
   "source": [
    "## Explique el problema a resolver. "
   ]
  },
  {
   "cell_type": "markdown",
   "id": "b9115c40",
   "metadata": {},
   "source": [
    "En el presente proyecto se tiene como objetivo el poder determinar un clasificador enfocado en determinar la categoria de precio que tiene un teléfono móvil en función de las características o también denominadas atributos de entrada "
   ]
  },
  {
   "cell_type": "markdown",
   "id": "2a9fbb74",
   "metadata": {},
   "source": [
    "## Caracterización del Dataset\n"
   ]
  },
  {
   "cell_type": "markdown",
   "id": "d8144dd2",
   "metadata": {},
   "source": [
    "### Número de instancias en total"
   ]
  },
  {
   "cell_type": "code",
   "execution_count": 3,
   "id": "290fbb2a",
   "metadata": {},
   "outputs": [
    {
     "data": {
      "text/plain": [
       "battery_power    2000\n",
       "blue             2000\n",
       "clock_speed      2000\n",
       "dual_sim         2000\n",
       "fc               2000\n",
       "four_g           2000\n",
       "int_memory       2000\n",
       "m_dep            2000\n",
       "mobile_wt        2000\n",
       "n_cores          2000\n",
       "pc               2000\n",
       "px_height        2000\n",
       "px_width         2000\n",
       "ram              2000\n",
       "sc_h             2000\n",
       "sc_w             2000\n",
       "talk_time        2000\n",
       "three_g          2000\n",
       "touch_screen     2000\n",
       "wifi             2000\n",
       "price_range      2000\n",
       "dtype: int64"
      ]
     },
     "execution_count": 3,
     "metadata": {},
     "output_type": "execute_result"
    }
   ],
   "source": [
    "#contar registros del dataset\n",
    "df.count()"
   ]
  },
  {
   "cell_type": "markdown",
   "id": "70797228",
   "metadata": {},
   "source": [
    "### Número de atributos de entrada, su significado y tipo"
   ]
  },
  {
   "cell_type": "markdown",
   "id": "60f63173",
   "metadata": {},
   "source": [
    "**El numero de atributos de entrada existentes en el set de datos es de 20 que son los siguientes:**\n",
    "\n",
    "### VARIABLES DE ENTRADA\n",
    "\n",
    "**battery_power:** variable continua que indica la energía total que una batería puede almacenar en un tiempo medida en mAh\n",
    "\n",
    "**blue:** variable categorica que tiene valor de 0 o 1 e indica si se tiene bluethhoth o no\n",
    "\n",
    "**clock_speed:** variable continua velocidad a la que el microprocesador ejecuta las instrucciones\n",
    "\n",
    "**dual_sim:** variable categorica indica si el celular tiene dual sim o no\n",
    "\n",
    "**fc:** variable continua indica los megapixeles de la camara delantera\n",
    "\n",
    "**four_g:** variable categorica indica si tiene 4g o no\n",
    "\n",
    "**int_memory:** continua indica la memoria interna en gigabytes\n",
    "\n",
    "**m_dep:** variable continua indica la profundida o altura del movil en cm\n",
    "\n",
    "**mobile_wt:** variable continua que indica el peso del movil\n",
    "\n",
    "**n_cores:** categorica que indica el numero de cores del procesador\n",
    "\n",
    "**pc:** continua indica los pixeles de la camara primaria\n",
    "\n",
    "**px_height:** continua resolucion de los pixeles en cuanto altura\n",
    "\n",
    "**px_width:** continua resolucion de los pixeles en ancho\n",
    "\n",
    "**ram:** continua memoria ram del telefono\n",
    "\n",
    "**sc_h:** continua altura de la pantala\n",
    "\n",
    "**sc_w:** continua ancho de la pantalla\n",
    "\n",
    "**talk_time:** continua tiempo que durará una sola carga de batería cuando esté hablando\n",
    "\n",
    "**three_g:** categorica indica si tiene 3g\n",
    "\n",
    "**touch_screen:** categorica indica si tiene pantalla tactil\n",
    "\n",
    "**wifi:** categorica indica si el telefono tiene conexion wifi\n",
    "\n",
    "### VARIABLES DE SALIDA\n",
    "**price_range:** Variable Categorica que indica el rango en el cual se encuentra el precio del movil en 4 rangos (0,1,2,3)\n"
   ]
  },
  {
   "cell_type": "code",
   "execution_count": 4,
   "id": "04961630",
   "metadata": {},
   "outputs": [
    {
     "name": "stdout",
     "output_type": "stream",
     "text": [
      "<class 'pandas.core.frame.DataFrame'>\n",
      "RangeIndex: 2000 entries, 0 to 1999\n",
      "Data columns (total 20 columns):\n",
      " #   Column         Non-Null Count  Dtype  \n",
      "---  ------         --------------  -----  \n",
      " 0   battery_power  2000 non-null   int64  \n",
      " 1   blue           2000 non-null   int64  \n",
      " 2   clock_speed    2000 non-null   float64\n",
      " 3   dual_sim       2000 non-null   int64  \n",
      " 4   fc             2000 non-null   int64  \n",
      " 5   four_g         2000 non-null   int64  \n",
      " 6   int_memory     2000 non-null   int64  \n",
      " 7   m_dep          2000 non-null   float64\n",
      " 8   mobile_wt      2000 non-null   int64  \n",
      " 9   n_cores        2000 non-null   int64  \n",
      " 10  pc             2000 non-null   int64  \n",
      " 11  px_height      2000 non-null   int64  \n",
      " 12  px_width       2000 non-null   int64  \n",
      " 13  ram            2000 non-null   int64  \n",
      " 14  sc_h           2000 non-null   int64  \n",
      " 15  sc_w           2000 non-null   int64  \n",
      " 16  talk_time      2000 non-null   int64  \n",
      " 17  three_g        2000 non-null   int64  \n",
      " 18  touch_screen   2000 non-null   int64  \n",
      " 19  wifi           2000 non-null   int64  \n",
      "dtypes: float64(2), int64(18)\n",
      "memory usage: 312.6 KB\n"
     ]
    }
   ],
   "source": [
    "#muestra la información (incluido el tipo de dato) de los 20 atributos de entrada.\n",
    "df.drop('price_range', axis=1).info()"
   ]
  },
  {
   "cell_type": "markdown",
   "id": "782fc7ac",
   "metadata": {},
   "source": [
    "## LIMPIEZA DE LOS DATOS"
   ]
  },
  {
   "cell_type": "markdown",
   "id": "43dcb77f",
   "metadata": {},
   "source": [
    "Lo primero que se llevara a cabo para el presente trabajo es el análisis del set de datos con el fin de determinar si existe inconvenientes o problemas para el posterior analisis. Lo primero que se pretende es analizar si tanto en el set de datos que hará referencia a los datos de entrenamiento y de prueba existe anomalías o problemas que dificulten posteriormente su uso y aplicación de los modelos."
   ]
  },
  {
   "cell_type": "code",
   "execution_count": 5,
   "id": "ddfe3a7f",
   "metadata": {},
   "outputs": [],
   "source": [
    "#Transformación de las caracteristicas \n",
    "# Variable objetivo y variables de entrada\n",
    "y = df[['price_range']]\n",
    "X = df[['battery_power','blue','clock_speed','dual_sim','fc','four_g','int_memory','m_dep','mobile_wt','n_cores','pc','px_height','px_width','ram','sc_h','sc_w','talk_time','three_g','touch_screen','wifi']]\n",
    "#Separando las caracteristicas \n"
   ]
  },
  {
   "cell_type": "markdown",
   "id": "5194bcdf",
   "metadata": {},
   "source": [
    "# Valores Nulos\n",
    "Lo primero que se pretende es buscar la existencia de valores nulos en las instancias de las variables de entrada"
   ]
  },
  {
   "cell_type": "code",
   "execution_count": 6,
   "id": "d3850ec9",
   "metadata": {},
   "outputs": [
    {
     "data": {
      "text/plain": [
       "battery_power    0\n",
       "blue             0\n",
       "clock_speed      0\n",
       "dual_sim         0\n",
       "fc               0\n",
       "four_g           0\n",
       "int_memory       0\n",
       "m_dep            0\n",
       "mobile_wt        0\n",
       "n_cores          0\n",
       "pc               0\n",
       "px_height        0\n",
       "px_width         0\n",
       "ram              0\n",
       "sc_h             0\n",
       "sc_w             0\n",
       "talk_time        0\n",
       "three_g          0\n",
       "touch_screen     0\n",
       "wifi             0\n",
       "dtype: int64"
      ]
     },
     "execution_count": 6,
     "metadata": {},
     "output_type": "execute_result"
    }
   ],
   "source": [
    "#Comprobación de valores nulos en datos de entrada\n",
    "X.isnull().sum()"
   ]
  },
  {
   "cell_type": "markdown",
   "id": "79e713d2",
   "metadata": {},
   "source": [
    "Como se puede observar en el conjunto de instancias de los valores de entrada no existen valores nulos por lo cual se puede continuar con el siguiente paso que es la comprobacion de valores nulos existentes en la variable objetivo."
   ]
  },
  {
   "cell_type": "code",
   "execution_count": 7,
   "id": "54fe59c5",
   "metadata": {},
   "outputs": [
    {
     "data": {
      "text/plain": [
       "price_range    0\n",
       "dtype: int64"
      ]
     },
     "execution_count": 7,
     "metadata": {},
     "output_type": "execute_result"
    }
   ],
   "source": [
    "#Comprobación de valores nulos en la variable objetivo\n",
    "y.isnull().sum()"
   ]
  },
  {
   "cell_type": "markdown",
   "id": "08e315f4",
   "metadata": {},
   "source": [
    "De igual manera como se observa en los resultados en la variable objetivo tampoco existen valores nulos por lo cual se puede continuar con el siguiente paso. Se debe hacer una mención de que en el caso que hubiera existido valores nulos ya sea en las variables de entrada o en la variable objetivo se debería llevar a cabo una imputación pero para este proceso no es el caso."
   ]
  },
  {
   "cell_type": "markdown",
   "id": "9ee9a550",
   "metadata": {},
   "source": [
    "## Valores Duplicados\n",
    "Con el fin de continuar con la limpieza de los datos se procede a analizar si existe o no datos duplicados dentro de nuestras variables de entrada"
   ]
  },
  {
   "cell_type": "code",
   "execution_count": 8,
   "id": "72780e2a",
   "metadata": {},
   "outputs": [
    {
     "data": {
      "text/plain": [
       "0"
      ]
     },
     "execution_count": 8,
     "metadata": {},
     "output_type": "execute_result"
    }
   ],
   "source": [
    "#Comprobación de valores duplicados en los valores de entrada\n",
    "X.duplicated().sum()"
   ]
  },
  {
   "cell_type": "markdown",
   "id": "e06d0b8e",
   "metadata": {},
   "source": [
    "## SELECCIÓN DE CARACTERÍSTICAS"
   ]
  },
  {
   "cell_type": "code",
   "execution_count": 9,
   "id": "87b95c8e",
   "metadata": {},
   "outputs": [
    {
     "name": "stdout",
     "output_type": "stream",
     "text": [
      "Corr battery_power: 0.20072261211373096\n",
      "Corr blue: 0.02057285406141851\n",
      "Corr clock_speed: -0.00660569088173206\n",
      "Corr dual_sim: 0.01744447923722471\n",
      "Corr fc: 0.021998207776904265\n",
      "Corr four_g: 0.014771711417239408\n",
      "Corr int_memory: 0.04443495938898743\n",
      "Corr m_dep: 0.0008530365050864332\n",
      "Corr mobile_wt: -0.030302171314386415\n",
      "Corr n_cores: 0.004399274799457283\n",
      "Corr pc: 0.03359930021353949\n",
      "Corr px_height: 0.1488575550004218\n",
      "Corr px_width: 0.16581750172625512\n",
      "Corr ram: 0.9170457362649908\n",
      "Corr sc_h: 0.022986073167424424\n",
      "Corr sc_w: 0.03871127166448418\n",
      "Corr talk_time: 0.021858871162374775\n",
      "Corr three_g: 0.023611216880045024\n",
      "Corr touch_screen: -0.03041107189821801\n",
      "Corr wifi: 0.01878481201278902\n",
      "Corr price_range: 1.0\n"
     ]
    }
   ],
   "source": [
    "#Compruebo con un bucle for en cada valor de entrada la correlacion con la variable de salida\n",
    "for a in df.columns :\n",
    "    try :\n",
    "        print(f'Corr {a}: {df[a].corr(df[\"price_range\"])}')\n",
    "    except :\n",
    "        pass"
   ]
  },
  {
   "cell_type": "markdown",
   "id": "acd7b351",
   "metadata": {},
   "source": [
    "Como se puede observar existen unicamente 4 atributos o valores de entrada que presentan una alta correlacion con la variable objetivo las cuales son 'ram','px_height','px_width','battery_power' y con las que se procedera a trabajar a lo largo del presente analisis de clasificación."
   ]
  },
  {
   "cell_type": "markdown",
   "id": "5ff66bde",
   "metadata": {},
   "source": [
    "## Remover Valores Atipicos\n",
    "Con el fin de mantener un analisis correcto de los datos y adapatar de mejor forma el modelo se procede a eliminar el del set de datos aquellos valores que se encuentren alejados de la media o que puedan salir de la respuesta normal ya sea por errores u otros inconvenientes en la toma de datos"
   ]
  },
  {
   "cell_type": "code",
   "execution_count": 10,
   "id": "446270cb",
   "metadata": {},
   "outputs": [],
   "source": [
    "#Genero un set con las instancias de mis atributos o caracteristicas seleciconas\n",
    "variables_seleccionadas = ['ram','px_height','px_width','battery_power']\n",
    "#Remuevo Valores Atipicos en funcion de aquellos valores fuera de los cuartiles \n",
    "for a in variables_seleccionadas: \n",
    "    q1 = df[a].quantile(0.25)\n",
    "    q3 = df[a].quantile(0.75)\n",
    "    iqr = q3-q1\n",
    "    upper = q3 + 1.5*iqr\n",
    "    lower = q1 - 1.5*iqr\n",
    "    df = df[(df[a] > 0) & (df[a] < upper)]"
   ]
  },
  {
   "cell_type": "markdown",
   "id": "d01a4e7e",
   "metadata": {},
   "source": [
    "## Selección de Caracteristicas \n",
    "Ahora ya con los datos atipicos eliminados se puede proceder a generar un nuevo subset de datos para el trabajo con el modelo"
   ]
  },
  {
   "cell_type": "code",
   "execution_count": 11,
   "id": "7ce2dfbc",
   "metadata": {},
   "outputs": [],
   "source": [
    "#Transformación de las caracteristicas \n",
    "# Variable objetivo y variables de entrada\n",
    "y = df[['price_range']]\n",
    "#Separando las caracteristicas \n",
    "X = df[['ram','px_height','px_width','battery_power']]"
   ]
  },
  {
   "cell_type": "code",
   "execution_count": 12,
   "id": "d4c515c1",
   "metadata": {},
   "outputs": [
    {
     "data": {
      "text/plain": [
       "ram              int64\n",
       "px_height        int64\n",
       "px_width         int64\n",
       "battery_power    int64\n",
       "dtype: object"
      ]
     },
     "execution_count": 12,
     "metadata": {},
     "output_type": "execute_result"
    }
   ],
   "source": [
    "#imprime las características que tiene mayor correlación\n",
    "X.dtypes"
   ]
  },
  {
   "cell_type": "code",
   "execution_count": 13,
   "id": "b9a99a9c",
   "metadata": {},
   "outputs": [
    {
     "data": {
      "text/plain": [
       "array([0, 1, 2, 3], dtype=int64)"
      ]
     },
     "execution_count": 13,
     "metadata": {},
     "output_type": "execute_result"
    }
   ],
   "source": [
    "#Imprimo los valores unicos de la variable de salida\n",
    "np.unique(y)"
   ]
  },
  {
   "cell_type": "markdown",
   "id": "4e01d24f",
   "metadata": {},
   "source": [
    "## División del Set en Datos de Entrenamiento y de Prueba"
   ]
  },
  {
   "cell_type": "code",
   "execution_count": 14,
   "id": "ec42c2a2",
   "metadata": {},
   "outputs": [],
   "source": [
    "#importo libreria para la division del set de datos en entrenamiento y prueba\n",
    "from sklearn.model_selection import train_test_split"
   ]
  },
  {
   "cell_type": "code",
   "execution_count": 15,
   "id": "abb004e0",
   "metadata": {},
   "outputs": [],
   "source": [
    "#Código que realice la división en entrenamiento y test, de acuerdo con la estretgia de evaluación planeada. \n",
    "X_train, X_test, y_train, y_test = train_test_split(X, y, test_size=0.3, random_state=1)"
   ]
  },
  {
   "cell_type": "code",
   "execution_count": 16,
   "id": "9696389e",
   "metadata": {},
   "outputs": [
    {
     "data": {
      "text/plain": [
       "((1397, 4), (599, 4))"
      ]
     },
     "execution_count": 16,
     "metadata": {},
     "output_type": "execute_result"
    }
   ],
   "source": [
    "#Determino el tamaño del set de entrenamiento\n",
    "X_train.shape, X_test.shape"
   ]
  },
  {
   "cell_type": "code",
   "execution_count": 17,
   "id": "4944968c",
   "metadata": {},
   "outputs": [
    {
     "data": {
      "text/plain": [
       "((1397, 1), (599, 1))"
      ]
     },
     "execution_count": 17,
     "metadata": {},
     "output_type": "execute_result"
    }
   ],
   "source": [
    "#Determino el tamaño del set de prueba\n",
    "y_train.shape, y_test.shape"
   ]
  },
  {
   "cell_type": "markdown",
   "id": "8defb7a2",
   "metadata": {},
   "source": [
    "## Implementación Modelo de Naive-Bayes"
   ]
  },
  {
   "cell_type": "code",
   "execution_count": 18,
   "id": "fe60f9d0",
   "metadata": {},
   "outputs": [
    {
     "name": "stderr",
     "output_type": "stream",
     "text": [
      "C:\\Users\\VINICIO BORJA\\anaconda3\\lib\\site-packages\\sklearn\\utils\\validation.py:63: DataConversionWarning: A column-vector y was passed when a 1d array was expected. Please change the shape of y to (n_samples, ), for example using ravel().\n",
      "  return f(*args, **kwargs)\n"
     ]
    }
   ],
   "source": [
    "#Importo libreria encargado del modelo de Naive Bayes\n",
    "from sklearn.naive_bayes import GaussianNB\n",
    "#Defino el Modelo\n",
    "gnb = GaussianNB()\n",
    "#Entreno el modelo y aplico en el set de prueba\n",
    "y_pred = gnb.fit(X_train, y_train).predict(X_test)\n"
   ]
  },
  {
   "cell_type": "markdown",
   "id": "d8c32c44",
   "metadata": {},
   "source": [
    "## Evaluación\n"
   ]
  },
  {
   "cell_type": "code",
   "execution_count": 19,
   "id": "54749588",
   "metadata": {},
   "outputs": [
    {
     "name": "stdout",
     "output_type": "stream",
     "text": [
      "0.7696160267111853\n"
     ]
    }
   ],
   "source": [
    "#Importo libreria para obtener el valor del accuracy o la matriz de confusion ademas de libreria para graficar\n",
    "from sklearn.metrics import accuracy_score\n",
    "from sklearn.metrics import confusion_matrix, plot_confusion_matrix\n",
    "import matplotlib.pyplot as plt\n",
    "\n",
    "#Obtengo el accuracy del modelo de Naive Bayes\n",
    "acc_score_naive = accuracy_score(y_test, y_pred)\n",
    "\n",
    "\n",
    "print(acc_score_naive)\n"
   ]
  },
  {
   "cell_type": "code",
   "execution_count": 20,
   "id": "50c54d6b",
   "metadata": {},
   "outputs": [
    {
     "name": "stdout",
     "output_type": "stream",
     "text": [
      "[[123  18   0   0]\n",
      " [ 14 106  32   0]\n",
      " [  0  32 107  22]\n",
      " [  0   1  19 125]]\n"
     ]
    }
   ],
   "source": [
    "#Obtengo la matriz de confusion para este modelo\n",
    "cm = confusion_matrix(y_test, y_pred)\n",
    "print(cm)"
   ]
  },
  {
   "cell_type": "code",
   "execution_count": 21,
   "id": "08d1fdef",
   "metadata": {},
   "outputs": [
    {
     "data": {
      "text/plain": [
       "<sklearn.metrics._plot.confusion_matrix.ConfusionMatrixDisplay at 0x207880761c0>"
      ]
     },
     "execution_count": 21,
     "metadata": {},
     "output_type": "execute_result"
    },
    {
     "data": {
      "image/png": "[encoded data removed]",
      "text/plain": [
       "<Figure size 432x288 with 2 Axes>"
      ]
     },
     "metadata": {
      "needs_background": "light"
     },
     "output_type": "display_data"
    }
   ],
   "source": [
    "#Grafico la Matriz de Confusion\n",
    "plot_confusion_matrix(gnb, X_test, y_test, display_labels=['0',\n",
    " '1',\n",
    " '2',\n",
    " '3'], cmap=plt.cm.Blues)"
   ]
  },
  {
   "cell_type": "code",
   "execution_count": 22,
   "id": "702a904d",
   "metadata": {},
   "outputs": [
    {
     "name": "stdout",
     "output_type": "stream",
     "text": [
      "              precision    recall  f1-score   support\n",
      "\n",
      "           0       0.90      0.87      0.88       141\n",
      "           1       0.68      0.70      0.69       152\n",
      "           2       0.68      0.66      0.67       161\n",
      "           3       0.85      0.86      0.86       145\n",
      "\n",
      "    accuracy                           0.77       599\n",
      "   macro avg       0.78      0.77      0.77       599\n",
      "weighted avg       0.77      0.77      0.77       599\n",
      "\n"
     ]
    }
   ],
   "source": [
    "#Importo la librria para generar un reporte con las principales metricas del modelo\n",
    "from sklearn.metrics import classification_report\n",
    "#Imprimo las metricas como el accuracy, precision, recall\n",
    "print(classification_report(y_test, y_pred))"
   ]
  },
  {
   "cell_type": "code",
   "execution_count": 23,
   "id": "31d92c58",
   "metadata": {},
   "outputs": [],
   "source": [
    "#Importo libreria para obtener metricas para obtener precision recall f1\n",
    "from sklearn.metrics import precision_recall_fscore_support as score\n",
    "precision_naive,recall_naive,fscore_naive,support_naive=score(y_test,y_pred,average='macro')"
   ]
  },
  {
   "cell_type": "markdown",
   "id": "ca1a76c0",
   "metadata": {},
   "source": [
    "## Hidden Markov Model"
   ]
  },
  {
   "cell_type": "code",
   "execution_count": 24,
   "id": "34f35517",
   "metadata": {},
   "outputs": [
    {
     "data": {
      "text/html": [
       "<div>\n",
       "<style scoped>\n",
       "    .dataframe tbody tr th:only-of-type {\n",
       "        vertical-align: middle;\n",
       "    }\n",
       "\n",
       "    .dataframe tbody tr th {\n",
       "        vertical-align: top;\n",
       "    }\n",
       "\n",
       "    .dataframe thead th {\n",
       "        text-align: right;\n",
       "    }\n",
       "</style>\n",
       "<table border=\"1\" class=\"dataframe\">\n",
       "  <thead>\n",
       "    <tr style=\"text-align: right;\">\n",
       "      <th></th>\n",
       "      <th>battery_power</th>\n",
       "      <th>blue</th>\n",
       "      <th>clock_speed</th>\n",
       "      <th>dual_sim</th>\n",
       "      <th>fc</th>\n",
       "      <th>four_g</th>\n",
       "      <th>int_memory</th>\n",
       "      <th>m_dep</th>\n",
       "      <th>mobile_wt</th>\n",
       "      <th>n_cores</th>\n",
       "      <th>...</th>\n",
       "      <th>px_height</th>\n",
       "      <th>px_width</th>\n",
       "      <th>ram</th>\n",
       "      <th>sc_h</th>\n",
       "      <th>sc_w</th>\n",
       "      <th>talk_time</th>\n",
       "      <th>three_g</th>\n",
       "      <th>touch_screen</th>\n",
       "      <th>wifi</th>\n",
       "      <th>price_range</th>\n",
       "    </tr>\n",
       "  </thead>\n",
       "  <tbody>\n",
       "    <tr>\n",
       "      <th>0</th>\n",
       "      <td>842</td>\n",
       "      <td>0</td>\n",
       "      <td>2.2</td>\n",
       "      <td>0</td>\n",
       "      <td>1</td>\n",
       "      <td>0</td>\n",
       "      <td>7</td>\n",
       "      <td>0.6</td>\n",
       "      <td>188</td>\n",
       "      <td>2</td>\n",
       "      <td>...</td>\n",
       "      <td>20</td>\n",
       "      <td>756</td>\n",
       "      <td>2549</td>\n",
       "      <td>9</td>\n",
       "      <td>7</td>\n",
       "      <td>19</td>\n",
       "      <td>0</td>\n",
       "      <td>0</td>\n",
       "      <td>1</td>\n",
       "      <td>1</td>\n",
       "    </tr>\n",
       "    <tr>\n",
       "      <th>1</th>\n",
       "      <td>1021</td>\n",
       "      <td>1</td>\n",
       "      <td>0.5</td>\n",
       "      <td>1</td>\n",
       "      <td>0</td>\n",
       "      <td>1</td>\n",
       "      <td>53</td>\n",
       "      <td>0.7</td>\n",
       "      <td>136</td>\n",
       "      <td>3</td>\n",
       "      <td>...</td>\n",
       "      <td>905</td>\n",
       "      <td>1988</td>\n",
       "      <td>2631</td>\n",
       "      <td>17</td>\n",
       "      <td>3</td>\n",
       "      <td>7</td>\n",
       "      <td>1</td>\n",
       "      <td>1</td>\n",
       "      <td>0</td>\n",
       "      <td>2</td>\n",
       "    </tr>\n",
       "    <tr>\n",
       "      <th>2</th>\n",
       "      <td>563</td>\n",
       "      <td>1</td>\n",
       "      <td>0.5</td>\n",
       "      <td>1</td>\n",
       "      <td>2</td>\n",
       "      <td>1</td>\n",
       "      <td>41</td>\n",
       "      <td>0.9</td>\n",
       "      <td>145</td>\n",
       "      <td>5</td>\n",
       "      <td>...</td>\n",
       "      <td>1263</td>\n",
       "      <td>1716</td>\n",
       "      <td>2603</td>\n",
       "      <td>11</td>\n",
       "      <td>2</td>\n",
       "      <td>9</td>\n",
       "      <td>1</td>\n",
       "      <td>1</td>\n",
       "      <td>0</td>\n",
       "      <td>2</td>\n",
       "    </tr>\n",
       "    <tr>\n",
       "      <th>3</th>\n",
       "      <td>615</td>\n",
       "      <td>1</td>\n",
       "      <td>2.5</td>\n",
       "      <td>0</td>\n",
       "      <td>0</td>\n",
       "      <td>0</td>\n",
       "      <td>10</td>\n",
       "      <td>0.8</td>\n",
       "      <td>131</td>\n",
       "      <td>6</td>\n",
       "      <td>...</td>\n",
       "      <td>1216</td>\n",
       "      <td>1786</td>\n",
       "      <td>2769</td>\n",
       "      <td>16</td>\n",
       "      <td>8</td>\n",
       "      <td>11</td>\n",
       "      <td>1</td>\n",
       "      <td>0</td>\n",
       "      <td>0</td>\n",
       "      <td>2</td>\n",
       "    </tr>\n",
       "    <tr>\n",
       "      <th>4</th>\n",
       "      <td>1821</td>\n",
       "      <td>1</td>\n",
       "      <td>1.2</td>\n",
       "      <td>0</td>\n",
       "      <td>13</td>\n",
       "      <td>1</td>\n",
       "      <td>44</td>\n",
       "      <td>0.6</td>\n",
       "      <td>141</td>\n",
       "      <td>2</td>\n",
       "      <td>...</td>\n",
       "      <td>1208</td>\n",
       "      <td>1212</td>\n",
       "      <td>1411</td>\n",
       "      <td>8</td>\n",
       "      <td>2</td>\n",
       "      <td>15</td>\n",
       "      <td>1</td>\n",
       "      <td>1</td>\n",
       "      <td>0</td>\n",
       "      <td>1</td>\n",
       "    </tr>\n",
       "  </tbody>\n",
       "</table>\n",
       "<p>5 rows × 21 columns</p>\n",
       "</div>"
      ],
      "text/plain": [
       "   battery_power  blue  clock_speed  dual_sim  fc  four_g  int_memory  m_dep  \\\n",
       "0            842     0          2.2         0   1       0           7    0.6   \n",
       "1           1021     1          0.5         1   0       1          53    0.7   \n",
       "2            563     1          0.5         1   2       1          41    0.9   \n",
       "3            615     1          2.5         0   0       0          10    0.8   \n",
       "4           1821     1          1.2         0  13       1          44    0.6   \n",
       "\n",
       "   mobile_wt  n_cores  ...  px_height  px_width   ram  sc_h  sc_w  talk_time  \\\n",
       "0        188        2  ...         20       756  2549     9     7         19   \n",
       "1        136        3  ...        905      1988  2631    17     3          7   \n",
       "2        145        5  ...       1263      1716  2603    11     2          9   \n",
       "3        131        6  ...       1216      1786  2769    16     8         11   \n",
       "4        141        2  ...       1208      1212  1411     8     2         15   \n",
       "\n",
       "   three_g  touch_screen  wifi  price_range  \n",
       "0        0             0     1            1  \n",
       "1        1             1     0            2  \n",
       "2        1             1     0            2  \n",
       "3        1             0     0            2  \n",
       "4        1             1     0            1  \n",
       "\n",
       "[5 rows x 21 columns]"
      ]
     },
     "execution_count": 24,
     "metadata": {},
     "output_type": "execute_result"
    }
   ],
   "source": [
    "#Importo el modelo para el uso del modelo de Markov\n",
    "from hmmlearn.hmm import GaussianHMM\n",
    "df.head()"
   ]
  },
  {
   "cell_type": "code",
   "execution_count": 25,
   "id": "c115cba5",
   "metadata": {},
   "outputs": [],
   "source": [
    "#Transformación de las caracteristicas \n",
    "# Variable objetivo y variables de entrada\n",
    "y = df[['price_range']]\n",
    "#Separando las caracteristicas \n",
    "X = df[['ram','px_height','px_width','battery_power']]"
   ]
  },
  {
   "cell_type": "code",
   "execution_count": 26,
   "id": "a7a75277",
   "metadata": {},
   "outputs": [],
   "source": [
    "### Estandarización de la data ###\n",
    "# importar metodo de scalado standar\n",
    "from sklearn.preprocessing import StandardScaler\n",
    "# Formar objeto de scala para entradas\n",
    "VariablesEntradaScaler=StandardScaler()"
   ]
  },
  {
   "cell_type": "code",
   "execution_count": 27,
   "id": "88efac6f",
   "metadata": {},
   "outputs": [],
   "source": [
    "#Almacenamiento del objeto de ajuste para referencia posterior\n",
    "#Datos de entrada\n",
    "VariablesEntradaFit=VariablesEntradaScaler.fit(X)\n"
   ]
  },
  {
   "cell_type": "code",
   "execution_count": 28,
   "id": "00233654",
   "metadata": {},
   "outputs": [],
   "source": [
    "#Generación de los valores estandarizados de X e y\n",
    "#Datos e entrada\n",
    "X=VariablesEntradaFit.transform(X)"
   ]
  },
  {
   "cell_type": "markdown",
   "id": "9986d3db",
   "metadata": {},
   "source": [
    "## Aplico Modelo de Markov"
   ]
  },
  {
   "cell_type": "code",
   "execution_count": 29,
   "id": "c795b5cc",
   "metadata": {},
   "outputs": [
    {
     "data": {
      "text/plain": [
       "array([0, 1, 1, ..., 1, 2, 0], dtype=int64)"
      ]
     },
     "execution_count": 29,
     "metadata": {},
     "output_type": "execute_result"
    }
   ],
   "source": [
    "#Implemento el modelo de Markov\n",
    "model = GaussianHMM(n_components=4, covariance_type=\"diag\", n_iter=2000).fit(X)\n",
    "# Predigo la secuencia optima de estados\n",
    "y_pred_markov = model.predict(X)\n",
    "y_pred_markov"
   ]
  },
  {
   "cell_type": "code",
   "execution_count": 30,
   "id": "83109f28",
   "metadata": {},
   "outputs": [
    {
     "data": {
      "text/html": [
       "<div>\n",
       "<style scoped>\n",
       "    .dataframe tbody tr th:only-of-type {\n",
       "        vertical-align: middle;\n",
       "    }\n",
       "\n",
       "    .dataframe tbody tr th {\n",
       "        vertical-align: top;\n",
       "    }\n",
       "\n",
       "    .dataframe thead th {\n",
       "        text-align: right;\n",
       "    }\n",
       "</style>\n",
       "<table border=\"1\" class=\"dataframe\">\n",
       "  <thead>\n",
       "    <tr style=\"text-align: right;\">\n",
       "      <th></th>\n",
       "      <th>price_range</th>\n",
       "    </tr>\n",
       "  </thead>\n",
       "  <tbody>\n",
       "    <tr>\n",
       "      <th>0</th>\n",
       "      <td>1</td>\n",
       "    </tr>\n",
       "    <tr>\n",
       "      <th>1</th>\n",
       "      <td>2</td>\n",
       "    </tr>\n",
       "    <tr>\n",
       "      <th>2</th>\n",
       "      <td>2</td>\n",
       "    </tr>\n",
       "    <tr>\n",
       "      <th>3</th>\n",
       "      <td>2</td>\n",
       "    </tr>\n",
       "    <tr>\n",
       "      <th>4</th>\n",
       "      <td>1</td>\n",
       "    </tr>\n",
       "    <tr>\n",
       "      <th>...</th>\n",
       "      <td>...</td>\n",
       "    </tr>\n",
       "    <tr>\n",
       "      <th>1995</th>\n",
       "      <td>0</td>\n",
       "    </tr>\n",
       "    <tr>\n",
       "      <th>1996</th>\n",
       "      <td>2</td>\n",
       "    </tr>\n",
       "    <tr>\n",
       "      <th>1997</th>\n",
       "      <td>3</td>\n",
       "    </tr>\n",
       "    <tr>\n",
       "      <th>1998</th>\n",
       "      <td>0</td>\n",
       "    </tr>\n",
       "    <tr>\n",
       "      <th>1999</th>\n",
       "      <td>3</td>\n",
       "    </tr>\n",
       "  </tbody>\n",
       "</table>\n",
       "<p>1996 rows × 1 columns</p>\n",
       "</div>"
      ],
      "text/plain": [
       "      price_range\n",
       "0               1\n",
       "1               2\n",
       "2               2\n",
       "3               2\n",
       "4               1\n",
       "...           ...\n",
       "1995            0\n",
       "1996            2\n",
       "1997            3\n",
       "1998            0\n",
       "1999            3\n",
       "\n",
       "[1996 rows x 1 columns]"
      ]
     },
     "execution_count": 30,
     "metadata": {},
     "output_type": "execute_result"
    }
   ],
   "source": [
    "#Imprimo variable de salida de test.\n",
    "y"
   ]
  },
  {
   "cell_type": "code",
   "execution_count": null,
   "id": "a2a1622c",
   "metadata": {},
   "outputs": [],
   "source": []
  },
  {
   "cell_type": "code",
   "execution_count": null,
   "id": "b444cea9",
   "metadata": {},
   "outputs": [],
   "source": []
  },
  {
   "cell_type": "code",
   "execution_count": null,
   "id": "f78328ac",
   "metadata": {},
   "outputs": [],
   "source": []
  }
 ],
 "metadata": {
  "kernelspec": {
   "display_name": "Python 3 (ipykernel)",
   "language": "python",
   "name": "python3"
  },
  "language_info": {
   "codemirror_mode": {
    "name": "ipython",
    "version": 3
   },
   "file_extension": ".py",
   "mimetype": "text/x-python",
   "name": "python",
   "nbconvert_exporter": "python",
   "pygments_lexer": "ipython3",
   "version": "3.9.7"
  }
 },
 "nbformat": 4,
 "nbformat_minor": 5
}
